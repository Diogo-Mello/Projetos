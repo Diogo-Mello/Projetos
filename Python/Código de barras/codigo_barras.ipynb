{
 "cells": [
  {
   "cell_type": "code",
   "execution_count": null,
   "metadata": {},
   "outputs": [],
   "source": [
    "from barcode import EAN13;\n",
    "from barcode.writer import ImageWriter"
   ]
  },
  {
   "cell_type": "code",
   "execution_count": null,
   "metadata": {},
   "outputs": [],
   "source": [
    "codigo_barra = EAN13('123456789123', writer=ImageWriter())\n",
    "codigo_barra.save('codigo_barra_teste')"
   ]
  },
  {
   "cell_type": "code",
   "execution_count": null,
   "metadata": {},
   "outputs": [],
   "source": [
    "codigos_produtos = {\n",
    "    'Arroz': '459235648754',\n",
    "    'Feijão': '412569875124',\n",
    "    'Danone': '487564916575',\n",
    "    'Cerveja': '414125896578'\n",
    "}\n",
    "\n",
    "for produto in codigos_produtos:\n",
    "    codigo = codigos_produtos[produto]\n",
    "    codigo_barra = EAN13(codigo, writer=ImageWriter())\n",
    "    codigo_barra.save(f'codigo_barra_{produto}')"
   ]
  }
 ],
 "metadata": {
  "kernelspec": {
   "display_name": "Python 3.10.8 64-bit",
   "language": "python",
   "name": "python3"
  },
  "language_info": {
   "name": "python",
   "version": "3.10.8"
  },
  "orig_nbformat": 4,
  "vscode": {
   "interpreter": {
    "hash": "f0b70983dbcab9a3ca5b2214fed78443a38b0edf51eb1d4c3c4429b35a0e707f"
   }
  }
 },
 "nbformat": 4,
 "nbformat_minor": 2
}
